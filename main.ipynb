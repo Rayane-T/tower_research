{
 "cells": [
  {
   "cell_type": "code",
   "execution_count": null,
   "id": "239c214b",
   "metadata": {},
   "outputs": [],
   "source": [
    "import numpy as np\n",
    "import pandas as pd\n",
    "import matplotlib.pyplot as plt\n",
    "import tensorflow as tf\n",
    "from tensorflow.keras.models import Sequential\n",
    "from tensorflow.keras.layers import LSTM, Dense, Input"
   ]
  },
  {
   "cell_type": "code",
   "execution_count": null,
   "id": "5fe6db93",
   "metadata": {},
   "outputs": [],
   "source": [
    "file_path = 'input_game.csv'\n",
    "df = pd.read_csv(file_path)"
   ]
  },
  {
   "cell_type": "code",
   "execution_count": null,
   "id": "6c2a2fc9",
   "metadata": {},
   "outputs": [],
   "source": [
    "df.replace({'TRUST': 0, 'CHEAT': 1}, inplace=True)"
   ]
  },
  {
   "cell_type": "code",
   "execution_count": null,
   "id": "f5a83b3b",
   "metadata": {},
   "outputs": [],
   "source": [
    "df"
   ]
  },
  {
   "cell_type": "code",
   "execution_count": null,
   "id": "36e04c78",
   "metadata": {},
   "outputs": [],
   "source": [
    "number_of_rounds = []"
   ]
  },
  {
   "cell_type": "code",
   "execution_count": null,
   "id": "81bb58be",
   "metadata": {},
   "outputs": [],
   "source": [
    "total_rounds_per_game = df.groupby('game_id')['turn'].count()"
   ]
  },
  {
   "cell_type": "code",
   "execution_count": null,
   "id": "71bf3f0c",
   "metadata": {},
   "outputs": [],
   "source": [
    "total_rounds_per_game"
   ]
  },
  {
   "cell_type": "code",
   "execution_count": null,
   "id": "7dd3fc30",
   "metadata": {},
   "outputs": [],
   "source": [
    "plt.figure(figsize=(10, 6))\n",
    "plt.plot(total_rounds_per_game.index, total_rounds_per_game.values, color='skyblue')\n",
    "plt.xlabel('Game ID')\n",
    "plt.ylabel('Number of Rounds')\n",
    "plt.title('Number of Rounds Played for Each Game')\n",
    "plt.xticks(total_rounds_per_game.index)\n",
    "plt.grid(axis='y', linestyle='--', alpha=0.7)\n",
    "plt.show()"
   ]
  },
  {
   "cell_type": "code",
   "execution_count": null,
   "id": "e6efb291-9d48-4ecd-be9c-e5d6e739c1f9",
   "metadata": {},
   "outputs": [],
   "source": [
    "# Another visualization of the distribution\n",
    "plt.hist(df['turn'], bins=range(min(df['turn']), max(df['turn']) + 1), edgecolor='black')\n",
    "plt.xlabel('Number of Rounds')\n",
    "plt.ylabel('Frequency')\n",
    "plt.title('Distribution of Rounds Played')\n",
    "plt.show()"
   ]
  },
  {
   "cell_type": "code",
   "execution_count": null,
   "id": "3a4c3706",
   "metadata": {},
   "outputs": [],
   "source": [
    "#Uniform Distribution between [40,80]"
   ]
  },
  {
   "cell_type": "code",
   "execution_count": null,
   "id": "f834a4f6",
   "metadata": {},
   "outputs": [],
   "source": [
    "def create_models(p1_moves, p2_moves):\n",
    "    moves_player1 = np.array(p1_moves[:-1])\n",
    "    moves_player2 = np.array(p2_moves[:-1])\n",
    "\n",
    "    # Prepare data for LSTM\n",
    "    X_moves = np.column_stack((moves_player1, moves_player2))\n",
    "\n",
    "    # Prepare labels for player 1 and player 2\n",
    "    y_player1 = np.array(p1_moves[1:])  # Next move for player 1\n",
    "    y_player2 = np.array(p2_moves[1:])  # Next move for player 2\n",
    "\n",
    "    model_player1 = Sequential([\n",
    "        LSTM(64, input_shape=(X_moves.shape[1], 1)),\n",
    "        Dense(1, activation='sigmoid')\n",
    "    ])\n",
    "\n",
    "    model_player2 = Sequential([\n",
    "        LSTM(64, input_shape=(X_moves.shape[1], 1)),\n",
    "        Dense(1, activation='sigmoid')\n",
    "    ])\n",
    "\n",
    "    model_player1.compile(loss='binary_crossentropy', optimizer='adam', metrics=['accuracy'])\n",
    "    model_player2.compile(loss='binary_crossentropy', optimizer='adam', metrics=['accuracy'])\n",
    "\n",
    "    # Train models multiple times\n",
    "    for _ in range(101):\n",
    "        model_player1.fit(X_moves, y_player1, epochs=10, batch_size=32, verbose=0)\n",
    "        model_player2.fit(X_moves, y_player2, epochs=10, batch_size=32, verbose=0)\n",
    "\n",
    "    return model_player1, model_player2"
   ]
  },
  {
   "cell_type": "code",
   "execution_count": null,
   "id": "13019150",
   "metadata": {},
   "outputs": [],
   "source": [
    "grouped_df = df.groupby('game_id').agg({'p1_action': list, 'p2_action': list}).reset_index()\n",
    "grouped_df.rename(columns={'p1_action': 'input', 'p2_action': 'target'}, inplace=True)"
   ]
  },
  {
   "cell_type": "code",
   "execution_count": null,
   "id": "879bb7c8",
   "metadata": {},
   "outputs": [],
   "source": [
    "p1 = grouped_df.iloc[0, 1] +grouped_df.iloc[317, 1]\n",
    "p2 = grouped_df.iloc[0, 2] +grouped_df.iloc[317, 2]"
   ]
  },
  {
   "cell_type": "code",
   "execution_count": null,
   "id": "47173960",
   "metadata": {
    "scrolled": true
   },
   "outputs": [],
   "source": [
    "m1, m2 = create_models(p1,p2)"
   ]
  },
  {
   "cell_type": "code",
   "execution_count": null,
   "id": "73b00a4e",
   "metadata": {},
   "outputs": [],
   "source": [
    "p1_ = grouped_df.iloc[948, 1]\n",
    "p2_ = grouped_df.iloc[948, 2]"
   ]
  },
  {
   "cell_type": "code",
   "execution_count": null,
   "id": "5172120f",
   "metadata": {},
   "outputs": [],
   "source": [
    "moves_player1 = np.array(p1_[:-1])\n",
    "moves_player2 = np.array(p2_[:-1])\n",
    "\n",
    "# Preprocessing\n",
    "# Combine moves of both players into one array\n",
    "X_new_moves = np.column_stack((moves_player1, moves_player2))\n",
    "\n",
    "# Prepare labels for player 1 and player 2\n",
    "y_player1 = np.array(p1_[1:])  # Next move for player 1\n",
    "y_player2 = np.array(p2_[1:])  # Next move for player 2"
   ]
  },
  {
   "cell_type": "code",
   "execution_count": null,
   "id": "8631e52a",
   "metadata": {},
   "outputs": [],
   "source": [
    "predictions_player1 = m1.predict(X_new_moves)"
   ]
  },
  {
   "cell_type": "code",
   "execution_count": null,
   "id": "1800297d",
   "metadata": {},
   "outputs": [],
   "source": [
    "y_player1"
   ]
  },
  {
   "cell_type": "code",
   "execution_count": null,
   "id": "f48f8153",
   "metadata": {},
   "outputs": [],
   "source": [
    "preds  = (predictions_player1.reshape(1,-1)[0] > 0.5).astype(int)"
   ]
  },
  {
   "cell_type": "code",
   "execution_count": null,
   "id": "d1156baa-08f4-4cb5-8944-121758fbb30c",
   "metadata": {},
   "outputs": [],
   "source": [
    "# PART II"
   ]
  },
  {
   "cell_type": "code",
   "execution_count": null,
   "id": "002f82fd",
   "metadata": {},
   "outputs": [],
   "source": [
    "def calculate_similarity(actions1, actions2):\n",
    "    return np.sum(actions1 == actions2)"
   ]
  },
  {
   "cell_type": "code",
   "execution_count": null,
   "id": "16673d96-fb1a-44fe-9b95-4dba51d607ea",
   "metadata": {},
   "outputs": [],
   "source": [
    "# Rename columns to match the code\n",
    "df.rename(columns={'p1_id': 'player_id', 'p2_id': 'opponent_id'}, inplace=True)\n",
    "\n",
    "# Sample data generation\n",
    "grouped_df = df.groupby('game_id').agg({'player_id': 'first', 'p1_action': list, 'p2_action': list}).reset_index()"
   ]
  },
  {
   "cell_type": "code",
   "execution_count": null,
   "id": "7ab29c30",
   "metadata": {},
   "outputs": [],
   "source": [
    "\"\"\"\n",
    "# Create models and make predictions\n",
    "models = {}\n",
    "for index, row in grouped_df.iterrows():\n",
    "    p1_actions = row['p1_action']\n",
    "    p2_actions = row['p2_action']\n",
    "    model_p1, model_p2 = create_models(p1_actions, p2_actions)\n",
    "    models[row['game_id']] = (model_p1, model_p2)\n",
    "\"\"\""
   ]
  },
  {
   "cell_type": "code",
   "execution_count": null,
   "id": "886d4527",
   "metadata": {},
   "outputs": [],
   "source": [
    "# Calculate similarity and group by player_id\n",
    "grouped_by_strategy = {}\n",
    "for game_id, (model_p1, model_p2) in models.items():\n",
    "    grouped_by_strategy.setdefault(game_id, [])\n",
    "    p1_actions = grouped_df[grouped_df['game_id'] == game_id]['p1_action'].iloc[0]\n",
    "    p2_actions = grouped_df[grouped_df['game_id'] == game_id]['p2_action'].iloc[0]\n",
    "    X_new_moves = np.column_stack((np.array(p1_actions[:-1]), np.array(p2_actions[:-1])))\n",
    "\n",
    "    predicted_p1 = model_p1.predict(X_new_moves)\n",
    "    predicted_p2 = model_p2.predict(X_new_moves)\n",
    "\n",
    "    similarity_p1 = calculate_similarity(np.round(predicted_p1.flatten()), np.array(p1_actions[1:]))\n",
    "    similarity_p2 = calculate_similarity(np.round(predicted_p2.flatten()), np.array(p2_actions[1:]))\n",
    "\n",
    "    grouped_by_strategy[game_id].append((similarity_p1, similarity_p2))\n",
    "\n",
    "# Calculate strategy groups based on similarity\n",
    "strategy_groups = {}\n",
    "for game_id, similarities in grouped_by_strategy.items():\n",
    "    p1_id = grouped_df[grouped_df['game_id'] == game_id]['p1_id'].iloc[0]\n",
    "    p2_id = grouped_df[grouped_df['game_id'] == game_id]['p2_id'].iloc[0]\n",
    "    min_id = min(p1_id, p2_id)\n",
    "\n",
    "    if min_id in strategy_groups:\n",
    "        strategy_groups[min_id].append(game_id)\n",
    "    else:\n",
    "        strategy_groups[min_id] = [game_id]\n",
    "\n",
    "# Sort the strategies and players within each strategy\n",
    "sorted_strategy_groups = sorted(strategy_groups.items(), key=lambda x: x[0])\n",
    "final_groups = [[player_id] + sorted(game_ids) for player_id, game_ids in sorted_strategy_groups]\n"
   ]
  }
 ],
 "metadata": {
  "kernelspec": {
   "display_name": "Python 3 (ipykernel)",
   "language": "python",
   "name": "python3"
  },
  "language_info": {
   "codemirror_mode": {
    "name": "ipython",
    "version": 3
   },
   "file_extension": ".py",
   "mimetype": "text/x-python",
   "name": "python",
   "nbconvert_exporter": "python",
   "pygments_lexer": "ipython3",
   "version": "3.12.2"
  }
 },
 "nbformat": 4,
 "nbformat_minor": 5
}
